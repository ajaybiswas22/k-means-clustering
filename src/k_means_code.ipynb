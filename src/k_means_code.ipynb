{
 "cells": [
  {
   "cell_type": "code",
   "execution_count": null,
   "metadata": {},
   "outputs": [],
   "source": [
    "from matplotlib import pyplot as plt\n",
    "import numpy as np\n",
    "from PIL import Image\n",
    "from skimage import exposure\n",
    "import random\n",
    "import sys"
   ]
  },
  {
   "cell_type": "code",
   "execution_count": null,
   "metadata": {},
   "outputs": [],
   "source": [
    "im1 = np.array(Image.open('band1.gif', 'r'))\n",
    "im2 = np.array(Image.open('band2.gif', 'r'))\n",
    "im3 = np.array(Image.open('band3.gif', 'r'))\n",
    "im4 = np.array(Image.open('band4.gif', 'r'))"
   ]
  },
  {
   "cell_type": "code",
   "execution_count": null,
   "metadata": {},
   "outputs": [],
   "source": [
    " color = [[0,0,0],[255,255,255],[0,255,255]] "
   ]
  },
  {
   "cell_type": "code",
   "execution_count": null,
   "metadata": {},
   "outputs": [],
   "source": [
    "k=3"
   ]
  },
  {
   "cell_type": "code",
   "execution_count": null,
   "metadata": {},
   "outputs": [],
   "source": [
    "# 2. Input satellite images, imageInput (512, 512,4)\n",
    "\n",
    "imageinput=np.array([im1,im2,im3,im4])\n",
    "print(imageinput.reshape(512,512,4).shape)\n",
    "print(imageinput[0][0].shape)\n"
   ]
  },
  {
   "cell_type": "code",
   "execution_count": null,
   "metadata": {},
   "outputs": [],
   "source": [
    "# 3. Initialize clusteredImage as the output image\n",
    "\n",
    "#clusteredImage "
   ]
  },
  {
   "cell_type": "code",
   "execution_count": null,
   "metadata": {},
   "outputs": [],
   "source": [
    "# 4. Select k random x,y co-ordinates and extract pixel values from imageInput \n",
    "\n",
    "coord = np.array(([265,190],[32,436],[30,124]))\n",
    "\n",
    "c1=[]\n",
    "c2=[]\n",
    "c3=[]\n",
    "c4=[]\n",
    "for i in range(3):\n",
    "    c1.append(im1[coord[i][0],coord[i][1]])\n",
    "    c2.append(im2[coord[i][0],coord[i][1]])\n",
    "    c3.append(im3[coord[i][0],coord[i][1]])\n",
    "    c4.append(im4[coord[i][0],coord[i][1]])\n",
    "\n",
    "    \n",
    "initCentroids=np.array([c1,c2,c3,c4]).T\n",
    "print(initCentroids.shape)\n",
    "\n",
    "# we will be updating centroids later\n",
    "centroids = initCentroids\n"
   ]
  },
  {
   "cell_type": "code",
   "execution_count": null,
   "metadata": {},
   "outputs": [],
   "source": [
    "#initCentroids (3, 4)\n",
    "#(512, 512, 4)\n",
    "\n",
    "def euclidean_dist(x1,x2):\n",
    "    dist = sum([(a - b) ** 2 for a, b in zip(x1, x2)])**0.5\n",
    "    return dist\n",
    "\n",
    "\n",
    "def clustering(k,imageinput,centroids):\n",
    "    min_dist = sys.maxsize\n",
    "\n",
    "    classData = np.zeros((512*512,1))\n",
    "\n",
    "    for i in range(512):\n",
    "        for j in range(512):\n",
    "            for x in range(k):\n",
    "                distance = euclidean_dist(imageinput[:,i,j],centroids[x])\n",
    "\n",
    "\n",
    "                if(min_dist > distance):\n",
    "                    min_dist = distance\n",
    "                    label = x\n",
    "\n",
    "\n",
    "            classData[i] = label\n",
    "            min_dist = sys.maxsize\n",
    "    return classData\n",
    "\n",
    "def updateCentroids(imageinput,centroids,classData):\n",
    "    sum=[0,0,0,0]\n",
    "    total = 0\n",
    "    updatedCentroids = np.zeros((k,4))\n",
    "\n",
    "    for x in range (k):\n",
    "        for i in range(512):\n",
    "            for j in range(512):\n",
    "                if classData[i*j]==x:\n",
    "                    sum = np.array(sum) + imageinput[:,i,j]\n",
    "                    total+=1\n",
    "        sum = sum/total\n",
    "        updatedCentroids[x] = sum\n",
    "        sum = [0,0,0,0]\n",
    "        total = 0\n",
    "    return updatedCentroids\n",
    "        \n"
   ]
  },
  {
   "cell_type": "markdown",
   "metadata": {},
   "source": [
    "### Step 5"
   ]
  },
  {
   "cell_type": "code",
   "execution_count": null,
   "metadata": {},
   "outputs": [],
   "source": [
    "### loop until stopping criteria is met\n",
    "\n",
    "count = 0\n",
    "while(count < 1):\n",
    "    classData = clustering(k,imageinput,centroids)\n",
    "    print(classData)\n",
    "    updatedCentroids = np.round(updateCentroids(imageinput,centroids,classData))\n",
    "    if (centroids==updatedCentroids).all():\n",
    "        print(\"matched\")\n",
    "        break\n",
    "    else:\n",
    "        centroids = updatedCentroids\n",
    "    count+=1\n",
    "    "
   ]
  },
  {
   "cell_type": "markdown",
   "metadata": {},
   "source": [
    "### step 6"
   ]
  },
  {
   "cell_type": "code",
   "execution_count": 16,
   "metadata": {},
   "outputs": [
    {
     "data": {
      "image/png": "[encoded data removed]",
      "text/plain": [
       "<Figure size 432x288 with 1 Axes>"
      ]
     },
     "metadata": {
      "needs_background": "light"
     },
     "output_type": "display_data"
    }
   ],
   "source": [
    "cl=classData.reshape(512,512)\n",
    "plt.imshow(cl, cmap='hot')\n",
    "plt.show()              "
   ]
  },
  {
   "cell_type": "code",
   "execution_count": 19,
   "metadata": {},
   "outputs": [],
   "source": [
    "clusteredImage = np.zeros((512,512,3))\n",
    "for i in range(512):\n",
    "    for j in range(512):\n",
    "        clusteredImage[i,j,:] = color[int(cl[i,j])]\n",
    "\n",
    "img = Image.fromarray(clusteredImage.astype(int), 'RGB')"
   ]
  },
  {
   "cell_type": "code",
   "execution_count": 21,
   "metadata": {},
   "outputs": [],
   "source": [
    "img.show()"
   ]
  },
  {
   "cell_type": "code",
   "execution_count": null,
   "metadata": {},
   "outputs": [],
   "source": []
  }
 ],
 "metadata": {
  "kernelspec": {
   "display_name": "Python 3",
   "language": "python",
   "name": "python3"
  },
  "language_info": {
   "codemirror_mode": {
    "name": "ipython",
    "version": 3
   },
   "file_extension": ".py",
   "mimetype": "text/x-python",
   "name": "python",
   "nbconvert_exporter": "python",
   "pygments_lexer": "ipython3",
   "version": "3.8.5"
  }
 },
 "nbformat": 4,
 "nbformat_minor": 4
}
