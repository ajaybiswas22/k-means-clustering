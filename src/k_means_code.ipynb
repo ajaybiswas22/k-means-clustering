{
 "cells": [
  {
   "cell_type": "code",
   "execution_count": 1,
   "metadata": {},
   "outputs": [],
   "source": [
    "from matplotlib import pyplot as plt\n",
    "import numpy as np\n",
    "from PIL import Image\n",
    "from skimage import exposure\n",
    "import random\n",
    "import sys"
   ]
  },
  {
   "cell_type": "code",
   "execution_count": 2,
   "metadata": {},
   "outputs": [],
   "source": [
    "im1 = np.array(Image.open('band1.gif', 'r'))\n",
    "im2 = np.array(Image.open('band2.gif', 'r'))\n",
    "im3 = np.array(Image.open('band3.gif', 'r'))\n",
    "im4 = np.array(Image.open('band4.gif', 'r'))"
   ]
  },
  {
   "cell_type": "code",
   "execution_count": 3,
   "metadata": {},
   "outputs": [],
   "source": [
    "def euclidean_dist(x1,x2):\n",
    "    dist = sum([(a - b) ** 2 for a, b in zip(x1, x2)])**0.5\n",
    "    return dist\n",
    "\n",
    "\n",
    "def clustering(k,imageinput,centroids):\n",
    "    min_dist = sys.maxsize\n",
    "\n",
    "    classData = np.zeros((512,512))\n",
    "\n",
    "    for i in range(512):\n",
    "        for j in range(512):\n",
    "            for x in range(k):\n",
    "                distance = euclidean_dist(imageinput[:,i,j],centroids[x])\n",
    "\n",
    "                if(min_dist > distance):\n",
    "                    min_dist = distance\n",
    "                    label = x\n",
    "\n",
    "            classData[i][j] = label\n",
    "            min_dist = sys.maxsize\n",
    "    \n",
    "    return classData\n",
    "\n",
    "def updateCentroids(imageinput,classData):\n",
    "    sums =[0,0,0,0]\n",
    "    total = 0\n",
    "    updatedCentroids = np.zeros((k,4))\n",
    "\n",
    "    for x in range (k):\n",
    "        for i in range(512):\n",
    "            for j in range(512):\n",
    "                if classData[i][j] == x:\n",
    "                    sums = np.array(sums) + imageinput[:,i,j]\n",
    "                    total+=1\n",
    "        sums = sums/total\n",
    "        updatedCentroids[x] = sums\n",
    "        sums = [0,0,0,0]\n",
    "        total = 0\n",
    "    return updatedCentroids"
   ]
  },
  {
   "cell_type": "code",
   "execution_count": 17,
   "metadata": {},
   "outputs": [],
   "source": [
    " color = [[255,0,0],[0,255,0],[0,0,255],[0,255,255],[255,255,0]] "
   ]
  },
  {
   "cell_type": "code",
   "execution_count": 5,
   "metadata": {},
   "outputs": [],
   "source": [
    "k=4"
   ]
  },
  {
   "cell_type": "code",
   "execution_count": 6,
   "metadata": {},
   "outputs": [
    {
     "name": "stdout",
     "output_type": "stream",
     "text": [
      "(512, 512, 4)\n",
      "(512,)\n"
     ]
    }
   ],
   "source": [
    "# 2. Input satellite images, imageInput (512, 512,4)\n",
    "\n",
    "imageinput=np.array([im1,im2,im3,im4])\n",
    "print(imageinput.reshape(512,512,4).shape)\n",
    "print(imageinput[0][0].shape)\n"
   ]
  },
  {
   "cell_type": "code",
   "execution_count": 7,
   "metadata": {},
   "outputs": [],
   "source": [
    "# 3. Initialize clusteredImage as the output image\n",
    "clusteredImage = np.zeros((512,512,3))"
   ]
  },
  {
   "cell_type": "code",
   "execution_count": 8,
   "metadata": {},
   "outputs": [
    {
     "name": "stdout",
     "output_type": "stream",
     "text": [
      "(4, 4)\n"
     ]
    }
   ],
   "source": [
    "# 4. Select k random x,y co-ordinates and extract pixel values from imageInput \n",
    "\n",
    "coord = np.array(([300,100],[200,300],[200,400],[100,72],[121,96]))\n",
    "\n",
    "c1=[]\n",
    "c2=[]\n",
    "c3=[]\n",
    "c4=[]\n",
    "for i in range(k):\n",
    "    c1.append(im1[coord[i][0],coord[i][1]])\n",
    "    c2.append(im2[coord[i][0],coord[i][1]])\n",
    "    c3.append(im3[coord[i][0],coord[i][1]])\n",
    "    c4.append(im4[coord[i][0],coord[i][1]])\n",
    "\n",
    "    \n",
    "initCentroids=np.array([c1,c2,c3,c4]).T\n",
    "print(initCentroids.shape)\n",
    "\n",
    "# we will be updating centroids later\n",
    "centroids = initCentroids\n"
   ]
  },
  {
   "cell_type": "code",
   "execution_count": 9,
   "metadata": {},
   "outputs": [
    {
     "name": "stdout",
     "output_type": "stream",
     "text": [
      "[[ 4  4  6 12]\n",
      " [11 13 16 19]\n",
      " [ 7  9 11 20]\n",
      " [10 11 17 24]]\n"
     ]
    }
   ],
   "source": [
    "print(centroids)"
   ]
  },
  {
   "cell_type": "markdown",
   "metadata": {},
   "source": [
    "### Step 5"
   ]
  },
  {
   "cell_type": "code",
   "execution_count": 10,
   "metadata": {},
   "outputs": [
    {
     "name": "stderr",
     "output_type": "stream",
     "text": [
      "<ipython-input-3-b5e2fed0f1aa>:2: RuntimeWarning: overflow encountered in ubyte_scalars\n",
      "  dist = sum([(a - b) ** 2 for a, b in zip(x1, x2)])**0.5\n"
     ]
    }
   ],
   "source": [
    "### loop until stopping criteria is met\n",
    "# at 11 matched\n",
    "count = 0\n",
    "while(count < 5):\n",
    "    classData = clustering(k,imageinput,centroids)\n",
    "    updatedCentroids = np.round(updateCentroids(imageinput,classData))\n",
    "    if (centroids==updatedCentroids).all():\n",
    "        print(\"matched\")\n",
    "        break\n",
    "    else:\n",
    "        centroids = updatedCentroids\n",
    "    count+=1\n",
    "    "
   ]
  },
  {
   "cell_type": "code",
   "execution_count": 11,
   "metadata": {},
   "outputs": [],
   "source": [
    "# np.set_printoptions(threshold=sys.maxsize)\n",
    "# print(classData)"
   ]
  },
  {
   "cell_type": "code",
   "execution_count": 12,
   "metadata": {},
   "outputs": [
    {
     "name": "stdout",
     "output_type": "stream",
     "text": [
      "[[ 7.  8. 10. 17.]\n",
      " [13. 14. 19. 26.]\n",
      " [ 8. 10. 12. 25.]\n",
      " [11. 11. 15. 14.]]\n"
     ]
    }
   ],
   "source": [
    "print(updatedCentroids)"
   ]
  },
  {
   "cell_type": "markdown",
   "metadata": {},
   "source": [
    "### step 6"
   ]
  },
  {
   "cell_type": "code",
   "execution_count": 13,
   "metadata": {},
   "outputs": [
    {
     "ename": "IndexError",
     "evalue": "list index out of range",
     "output_type": "error",
     "traceback": [
      "\u001b[1;31m---------------------------------------------------------------------------\u001b[0m",
      "\u001b[1;31mIndexError\u001b[0m                                Traceback (most recent call last)",
      "\u001b[1;32m<ipython-input-13-f76d29790d49>\u001b[0m in \u001b[0;36m<module>\u001b[1;34m\u001b[0m\n\u001b[0;32m      1\u001b[0m \u001b[1;32mfor\u001b[0m \u001b[0mi\u001b[0m \u001b[1;32min\u001b[0m \u001b[0mrange\u001b[0m\u001b[1;33m(\u001b[0m\u001b[1;36m512\u001b[0m\u001b[1;33m)\u001b[0m\u001b[1;33m:\u001b[0m\u001b[1;33m\u001b[0m\u001b[1;33m\u001b[0m\u001b[0m\n\u001b[0;32m      2\u001b[0m     \u001b[1;32mfor\u001b[0m \u001b[0mj\u001b[0m \u001b[1;32min\u001b[0m \u001b[0mrange\u001b[0m\u001b[1;33m(\u001b[0m\u001b[1;36m512\u001b[0m\u001b[1;33m)\u001b[0m\u001b[1;33m:\u001b[0m\u001b[1;33m\u001b[0m\u001b[1;33m\u001b[0m\u001b[0m\n\u001b[1;32m----> 3\u001b[1;33m         \u001b[0mclusteredImage\u001b[0m\u001b[1;33m[\u001b[0m\u001b[0mi\u001b[0m\u001b[1;33m,\u001b[0m\u001b[0mj\u001b[0m\u001b[1;33m,\u001b[0m\u001b[1;33m:\u001b[0m\u001b[1;33m]\u001b[0m \u001b[1;33m=\u001b[0m \u001b[0mcolor\u001b[0m\u001b[1;33m[\u001b[0m\u001b[0mint\u001b[0m\u001b[1;33m(\u001b[0m\u001b[0mclassData\u001b[0m\u001b[1;33m[\u001b[0m\u001b[0mi\u001b[0m\u001b[1;33m,\u001b[0m\u001b[0mj\u001b[0m\u001b[1;33m]\u001b[0m\u001b[1;33m)\u001b[0m\u001b[1;33m]\u001b[0m\u001b[1;33m\u001b[0m\u001b[1;33m\u001b[0m\u001b[0m\n\u001b[0m",
      "\u001b[1;31mIndexError\u001b[0m: list index out of range"
     ]
    }
   ],
   "source": [
    "for i in range(512):\n",
    "    for j in range(512):\n",
    "        clusteredImage[i,j,:] = color[int(classData[i,j])]\n"
   ]
  },
  {
   "cell_type": "code",
   "execution_count": null,
   "metadata": {},
   "outputs": [],
   "source": [
    "img = Image.fromarray(clusteredImage.astype(int), 'RGB')\n",
    "imgplot = plt.imshow(img)\n",
    "plt.show()"
   ]
  }
 ],
 "metadata": {
  "kernelspec": {
   "display_name": "Python 3",
   "language": "python",
   "name": "python3"
  },
  "language_info": {
   "codemirror_mode": {
    "name": "ipython",
    "version": 3
   },
   "file_extension": ".py",
   "mimetype": "text/x-python",
   "name": "python",
   "nbconvert_exporter": "python",
   "pygments_lexer": "ipython3",
   "version": "3.8.5"
  }
 },
 "nbformat": 4,
 "nbformat_minor": 4
}
